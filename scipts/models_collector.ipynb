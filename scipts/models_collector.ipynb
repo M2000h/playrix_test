{
 "cells": [
  {
   "cell_type": "code",
   "id": "41e74e7b-a306-44d1-a955-199d73d03014",
   "metadata": {},
   "source": "!pip install --no-cache-dir \"huggingface_hub>=0.24.6\" hf_transfer",
   "outputs": [],
   "execution_count": null
  },
  {
   "cell_type": "code",
   "id": "93ccfc55-56df-4c28-9f21-ed8dba801cea",
   "metadata": {},
   "source": [
    "from huggingface_hub import snapshot_download\n",
    "import shutil\n",
    "\n",
    "LOCAL_DIR = \"./models/flux-kontext-dev\"\n",
    "HF_TOKEN = \"*****\"\n",
    "\n",
    "shutil.rmtree(LOCAL_DIR, ignore_errors=True)\n",
    "\n",
    "local_dir = snapshot_download(\n",
    "    repo_id=\"black-forest-labs/FLUX.1-Kontext-dev\",\n",
    "    token=HF_TOKEN,\n",
    "    local_dir=LOCAL_DIR,\n",
    "    local_dir_use_symlinks=False,\n",
    "    resume_download=True,\n",
    "    max_workers=2,\n",
    "    allow_patterns=[\n",
    "        \"*.json\",\"*config*\",\"*.txt\",\"*tokenizer*\",\"*.model\",\"*.vocab\",\"*.spiece\",\n",
    "        \"*.safetensors\",\"*.bin\"\n",
    "    ],\n",
    ")\n",
    "print(\"Snapshot at:\", local_dir)\n"
   ],
   "outputs": [],
   "execution_count": null
  }
 ],
 "metadata": {
  "kernelspec": {
   "display_name": "Python 3 (ipykernel)",
   "language": "python",
   "name": "python3"
  },
  "language_info": {
   "codemirror_mode": {
    "name": "ipython",
    "version": 3
   },
   "file_extension": ".py",
   "mimetype": "text/x-python",
   "name": "python",
   "nbconvert_exporter": "python",
   "pygments_lexer": "ipython3",
   "version": "3.10.18"
  }
 },
 "nbformat": 4,
 "nbformat_minor": 5
}
