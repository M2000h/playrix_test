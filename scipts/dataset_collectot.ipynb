{
 "cells": [
  {
   "cell_type": "code",
   "execution_count": 2,
   "id": "409395c4-ac36-4bfb-8726-b1bfb070a3cc",
   "metadata": {},
   "outputs": [],
   "source": [
    "import requests\n",
    "import os"
   ]
  },
  {
   "cell_type": "code",
   "execution_count": 2,
   "id": "c9462f9c-e6b8-468f-8ff5-c99a2bef273c",
   "metadata": {},
   "outputs": [],
   "source": [
    "Kremlin = [\n",
    "    \"https://upload.wikimedia.org/wikipedia/commons/thumb/c/c1/DSC07437-%D0%9C%D0%BE%D1%81%D0%BA%D0%BE%D0%B2%D1%81%D0%BA%D0%B8%D0%B9_%D0%9A%D1%80%D0%B5%D0%BC%D0%BB%D1%8C.jpg/960px-DSC07437-%D0%9C%D0%BE%D1%81%D0%BA%D0%BE%D0%B2%D1%81%D0%BA%D0%B8%D0%B9_%D0%9A%D1%80%D0%B5%D0%BC%D0%BB%D1%8C.jpg\",\n",
    "    \"https://resize.tripster.ru/kmrmt_GWexMVF3blNR6j3lH2xC4=/fit-in/1080x810/filters:no_upscale()/https://cdn.tripster.ru/photos/8628885b-42fe-4f03-921b-60f7a671cfa3.jpg\",\n",
    "    \"https://tropki.ru/sites/default/files/styles/article/public/previews/2390/moskovskiy-kreml_0.jpg?itok=YzeVnAer\",\n",
    "    \"https://architectureguru.ru/wp-content/uploads/2019/11/moscow-kremlin-1.jpg\",\n",
    "    \"https://forman-sgk.ru/upload/iblock/215/1ithy04r074cv3zkz27753ez549f1ye0.jpg\",\n",
    "    \"https://art-list.ru/wp-content/uploads/2023/11/steny-kremlya.jpg\",\n",
    "    \"https://metrorus.ru/wp-content/uploads/2018/08/moskovskij-kreml.jpg\",\n",
    "    \"https://i.msmap.ru/original/12945.jpg\",\n",
    "    \"https://cdn.culture.ru/images/b570202e-f934-5e54-b5c5-ee6b97f57f1f\",\n",
    "    \"https://s6.stc.all.kpcdn.net/russia/wp-content/uploads/2020/01/kreml-moskva-2603.jpg\",\n",
    "    \"https://s16.stc.all.kpcdn.net/russia/wp-content/uploads/2021/10/bashni-moskovskogo-kremlya-Beklemishevskaya_bashnya-viki-kemal-kozbaev.jpg\",\n",
    "    \"https://s10.stc.yc.kpcdn.net/share/i/12/5663585/de-1200x675.jpg\",\n",
    "    \"https://resize.tripster.ru/MSVXH_8GPLsPqwV1dKPpVQKy78s=/fit-in/1220x600/filters:no_upscale()/https://cdn.tripster.ru/photos/b2077fec-33fd-4f11-8b52-2135ebfee7dd.jpg\",\n",
    "    \"https://moskultura.ru/wp-content/uploads/2022/03/kremlin1-1140x721.jpg\",\n",
    "    \"https://fs.tonkosti.ru/ev/35/ev35jkref14cc8wggsosgo80s.jpg\",\n",
    "    \"https://travel2moscow.com/wp-content/uploads/2023/02/kreml3.jpg\",\n",
    "    \"https://standarthotel.com/upload/resize_cache/iblock/f99/1460_800_2/mq7kzugpdcyaxrtczbd6zu7kzpq9tbvg.jpg\",\n",
    "    \"https://findit.city/_next/image?url=https%3A%2F%2Ffindit-files.fra1.cdn.digitaloceanspaces.com%2Fmedia%2Frussia%2Fmoscow%2Fleisure%2Ftourism%2Fsights%2F5%2Fmoscow-5108079.jpg&w=640&q=75\"\n",
    "]"
   ]
  },
  {
   "cell_type": "code",
   "execution_count": 3,
   "id": "5261b3dc-0b2c-43d9-adb8-38f2e388f6e9",
   "metadata": {},
   "outputs": [],
   "source": [
    "MSU = [\n",
    "    \"https://mf.b37mrtl.ru/rbthmedia/images/2023.01/original/63d0e817b5694839e66af687.jpg\",\n",
    "    \"https://www.calend.ru/img/content_events/i5/5172.jpg\",\n",
    "    \"http://duma.gov.ru/media/photos/1254x705_2x/39y5IzAiTXREMncjwoYDVRm3J5jpMkho.jpg\",\n",
    "    \"https://moskultura.ru/wp-content/uploads/2023/08/glavnoe-zdanie-mgu-na-vorobyovyh-gorah.jpg\",\n",
    "    \"https://www.m24.ru/b/d/nBkSUhL2hFMgkcm0JL6BrNOp2Z318Ji-mifCm-WR9mOBdDebBizCnTY8qdJf6ReJ58vU9meMMok3Ee2nhSR6ISeO9G1N_wjJ=FNd1roTRtdVjFf1zd4F80A.jpg\",\n",
    "    \"https://icdn.lenta.ru/images/2015/10/20/17/20151020175414124/detail_ff3a6193dbf91ad3f490cf997bb07d8f.jpg\"\n",
    "    \"https://moya-planeta.ru/upload/images/xl/a7/df/a7df36e258e4c41b73de221939930b2a92789952.jpg\",\n",
    "    \"https://aif-s3.aif.ru/images/005/381/6933024eca35363da0101d606761bec8.jpg\",\n",
    "    \"https://media.istockphoto.com/id/645196990/ru/%D1%84%D0%BE%D1%82%D0%BE/%D0%B2%D0%B5%D1%81%D0%B5%D0%BD%D0%BD%D0%B8%D0%B9-%D0%B7%D0%B0%D0%BA%D0%B0%D1%82-%D0%BA%D0%B0%D0%BC%D0%BF%D1%83%D1%81%D0%B0-%D0%BC%D0%B3%D1%83-%D0%B8%D0%BC%D0%B5%D0%BD%D0%B8-%D0%BB%D0%BE%D0%BC%D0%BE%D0%BD%D0%BE%D1%81%D0%BE%D0%B2%D0%B0-%D0%BF%D0%BE%D0%B4-%D1%81%D0%BE%D0%BB%D0%BD%D0%B5%D1%87%D0%BD%D1%8B%D0%BC-%D0%BD%D0%B5%D0%B1%D0%BE%D0%BC.jpg?s=612x612&w=0&k=20&c=C_dl3myKf-C3UCvOC3Xkw0vsFn3RmWNWv0BRuGcQUmI=\",\n",
    "    \"https://cdnimages.absatz.media/images/2024.08/original/1920_66bce666b09c6002d47fc62c.jpg\",\n",
    "    \"https://cdnn21.img.ria.ru/images/07e7/0b/0f/1909535360_0:180:3000:1868_1920x0_80_0_0_946c3d555beaff3c997ba281a14d823c.jpg\",\n",
    "    \"https://asiaplustj.info/sites/default/files/articles/290142/%D0%BC%D0%B3%D1%83.jpg\",\n",
    "    \"https://scientificrussia.ru/images/i/tpi-full.jpg\",\n",
    "    \"https://www.interfax.ru/ftproot/textphotos/2014/12/17/mgu700.jpg\",\n",
    "    \"https://mosday.ru/photos/19_309@4.jpg\",\n",
    "    \"https://smapse.ru/storage/2018/10/converted/660_464_42644777-1848445895201903-3254387919514763264-n.jpg\",\n",
    "    \"https://cdn.globaldialog.ru/_/manager/files/541/845a3a3da5/%D0%BC%D0%B3%D1%83.jpg\"\n",
    "]"
   ]
  },
  {
   "cell_type": "code",
   "execution_count": 3,
   "id": "19d76aa1-5d6b-4eb3-88e5-967d1184f26f",
   "metadata": {},
   "outputs": [],
   "source": [
    "City = [\n",
    "    \"https://dynamic-media-cdn.tripadvisor.com/media/photo-o/11/c0/e1/f3/caption.jpg?w=900&h=-1&s=1\",\n",
    "    \"https://www.minib.cz/upItems/imgs/005/moskau_city_54003aee_75b5_4882_99ac_c54c602eadf6_m.jpg\",\n",
    "    \"https://geohistory.today/wp-content/uploads/2017/09/Moscow.jpg\"\n",
    "]"
   ]
  },
  {
   "cell_type": "code",
   "id": "1391294e-f8b4-4885-8b8f-27c224e16411",
   "metadata": {},
   "source": [
    "folder = \"./dataset/City\"\n",
    "os.makedirs(folder, exist_ok=True)\n",
    "\n",
    "headers = {\n",
    "    \"User-Agent\": \"Mozilla/5.0 (Windows NT 10.0; Win64; x64) AppleWebKit/537.36 (KHTML, like Gecko) Chrome/91.0.4472.124 Safari/537.36\"\n",
    "}\n",
    "\n",
    "# Скачивание картинок\n",
    "for i, url in enumerate(City, 1):\n",
    "    try:\n",
    "        response = requests.get(url, headers=headers)\n",
    "        response.raise_for_status()\n",
    "\n",
    "        filename = f\"{i}.jpg\"\n",
    "        filepath = os.path.join(folder, filename)\n",
    "\n",
    "        with open(filepath, \"wb\") as f:\n",
    "            f.write(response.content)\n",
    "\n",
    "        print(f\"Скачано: {filename}\")\n",
    "\n",
    "    except Exception as e:\n",
    "        print(f\"Ошибка при скачивании {url}: {e}\")\n",
    "\n",
    "print(\"Завершено!\")"
   ],
   "outputs": [],
   "execution_count": null
  },
  {
   "cell_type": "code",
   "execution_count": null,
   "id": "b060184c-803e-4aa4-9cbf-5ae3bb2d270d",
   "metadata": {},
   "outputs": [],
   "source": [
    "from tqdm import tqdm\n",
    "for i in tqdm(range(100)):\n",
    "    response = requests.get(f\"https://www.simonstalenhag.se/4k/svema_{i}_big.jpg\", stream=True)\n",
    "    if not response.ok:\n",
    "        continue\n",
    "    with open(f'/workspace/dataset/origs/{i}.jpg', 'wb') as f:\n",
    "        for chunk in response:\n",
    "            f.write(chunk)"
   ]
  }
 ],
 "metadata": {
  "kernelspec": {
   "display_name": "Python 3 (ipykernel)",
   "language": "python",
   "name": "python3"
  },
  "language_info": {
   "codemirror_mode": {
    "name": "ipython",
    "version": 3
   },
   "file_extension": ".py",
   "mimetype": "text/x-python",
   "name": "python",
   "nbconvert_exporter": "python",
   "pygments_lexer": "ipython3",
   "version": "3.12.3"
  }
 },
 "nbformat": 4,
 "nbformat_minor": 5
}
